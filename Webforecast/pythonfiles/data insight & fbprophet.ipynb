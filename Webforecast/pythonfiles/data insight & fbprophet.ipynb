{
 "cells": [
  {
   "cell_type": "code",
   "execution_count": 4,
   "metadata": {
    "collapsed": true
   },
   "outputs": [],
   "source": [
    "import os\n",
    "import math\n",
    "import numpy as np\n",
    "import pandas as pd\n",
    "import calendar\n",
    "import re\n",
    "import matplotlib.pyplot as plt\n",
    "\n"
   ]
  },
  {
   "cell_type": "code",
   "execution_count": 5,
   "metadata": {
    "collapsed": true
   },
   "outputs": [],
   "source": [
    "data = pd.read_csv(\"data/train_2.csv\").fillna(0)"
   ]
  },
  {
   "cell_type": "code",
   "execution_count": 10,
   "metadata": {
    "collapsed": true
   },
   "outputs": [],
   "source": [
    "def get_info(page):\n",
    "    index = page.rfind('_')\n",
    "    agent = page[index+1:]\n",
    "    page = page[:index]\n",
    "\n",
    "    index = page.rfind('_')\n",
    "    whart = page[index+1:]\n",
    "    page = page[:index]\n",
    "\n",
    "    index = page.rfind('_')\n",
    "    link = page[index+1:]\n",
    "    keywords = page[:index]\n",
    "    return keywords, link, whart, agent\n",
    "\n",
    "def get_keyword(page):\n",
    "    return get_info(page)[0]\n",
    "def get_link(page):\n",
    "    return get_info(page)[1]\n",
    "def get_access(page):\n",
    "    return get_info(page)[2]\n",
    "def get_agent(page):\n",
    "    return get_info(page)[3]\n",
    "\n",
    "\n"
   ]
  },
  {
   "cell_type": "code",
   "execution_count": 11,
   "metadata": {
    "collapsed": true
   },
   "outputs": [],
   "source": [
    "# data['link'] = data.Page.map(get_link)\n",
    "# data['access'] = data.Page.map(get_access)\n",
    "# data['agent'] = data.Page.map(get_agent)"
   ]
  },
  {
   "cell_type": "code",
   "execution_count": 12,
   "metadata": {},
   "outputs": [
    {
     "name": "stderr",
     "output_type": "stream",
     "text": [
      "/Users/fredxue/anaconda2/envs/py3/lib/python3.6/site-packages/ipykernel_launcher.py:1: FutureWarning: currently extract(expand=None) means expand=False (return Index/Series/DataFrame) but in a future version of pandas this will be changed to expand=True (return DataFrame)\n",
      "  \"\"\"Entry point for launching an IPython kernel.\n"
     ]
    }
   ],
   "source": [
    "page_details = data.Page.str.extract(r'(?P<topic>.*)\\_(?P<lang>.*).wikipedia.org\\_(?P<access>.*)\\_(?P<agent>.*)')"
   ]
  },
  {
   "cell_type": "code",
   "execution_count": 13,
   "metadata": {},
   "outputs": [
    {
     "data": {
      "text/plain": [
       "array(['zh', 'fr', 'en', nan, 'ru', 'de', 'ja', 'es'], dtype=object)"
      ]
     },
     "execution_count": 13,
     "metadata": {},
     "output_type": "execute_result"
    }
   ],
   "source": [
    "unique_topic = page_details['lang'].unique()\n",
    "\n",
    "unique_topic"
   ]
  },
  {
   "cell_type": "code",
   "execution_count": 14,
   "metadata": {},
   "outputs": [
    {
     "data": {
      "image/png": "[encoded data removed]",
      "text/plain": [
       "<Figure size 864x864 with 3 Axes>"
      ]
     },
     "metadata": {},
     "output_type": "display_data"
    }
   ],
   "source": [
    "fig, axs  = plt.subplots(3,1,figsize=(12,12))\n",
    "\n",
    "page_details[\"lang\"].value_counts().sort_index().plot.bar(ax=axs[0])\n",
    "axs[0].set_title('Language - distribution')\n",
    "\n",
    "page_details[\"access\"].value_counts().sort_index().plot.bar(ax=axs[1])\n",
    "axs[1].set_title('Access - distribution')\n",
    "\n",
    "page_details[\"agent\"].value_counts().sort_index().plot.bar(ax=axs[2])\n",
    "axs[2].set_title('Agent - distribution')\n",
    "\n",
    "plt.tight_layout()"
   ]
  },
  {
   "cell_type": "markdown",
   "metadata": {},
   "source": [
    "## Split data to train and test"
   ]
  },
  {
   "cell_type": "code",
   "execution_count": 15,
   "metadata": {},
   "outputs": [
    {
     "name": "stdout",
     "output_type": "stream",
     "text": [
      "The training set sample:\n",
      "              topic lang      access   agent  \\\n",
      "0              2NE1   zh  all-access  spider   \n",
      "1               2PM   zh  all-access  spider   \n",
      "2                3C   zh  all-access  spider   \n",
      "3           4minute   zh  all-access  spider   \n",
      "4  52_Hz_I_Love_You   zh  all-access  spider   \n",
      "5              5566   zh  all-access  spider   \n",
      "6            91Days   zh  all-access  spider   \n",
      "7             A'N'D   zh  all-access  spider   \n",
      "8             AKB48   zh  all-access  spider   \n",
      "9             ASCII   zh  all-access  spider   \n",
      "\n",
      "                                                Page  2015-07-01  2015-07-02  \\\n",
      "0            2NE1_zh.wikipedia.org_all-access_spider        18.0        11.0   \n",
      "1             2PM_zh.wikipedia.org_all-access_spider        11.0        14.0   \n",
      "2              3C_zh.wikipedia.org_all-access_spider         1.0         0.0   \n",
      "3         4minute_zh.wikipedia.org_all-access_spider        35.0        13.0   \n",
      "4  52_Hz_I_Love_You_zh.wikipedia.org_all-access_s...         0.0         0.0   \n",
      "5            5566_zh.wikipedia.org_all-access_spider        12.0         7.0   \n",
      "6          91Days_zh.wikipedia.org_all-access_spider         0.0         0.0   \n",
      "7           A'N'D_zh.wikipedia.org_all-access_spider       118.0        26.0   \n",
      "8           AKB48_zh.wikipedia.org_all-access_spider         5.0        23.0   \n",
      "9           ASCII_zh.wikipedia.org_all-access_spider         6.0         3.0   \n",
      "\n",
      "   2015-07-03  2015-07-04  2015-07-05     ...      2017-07-03  2017-07-04  \\\n",
      "0         5.0        13.0        14.0     ...            26.0        15.0   \n",
      "1        15.0        18.0        11.0     ...            16.0        23.0   \n",
      "2         1.0         1.0         0.0     ...             7.0         1.0   \n",
      "3        10.0        94.0         4.0     ...            16.0        10.0   \n",
      "4         0.0         0.0         0.0     ...             6.0        16.0   \n",
      "5         4.0         5.0        20.0     ...            29.0        33.0   \n",
      "6         0.0         0.0         0.0     ...             1.0        12.0   \n",
      "7        30.0        24.0        29.0     ...            49.0        34.0   \n",
      "8        14.0        12.0         9.0     ...            29.0        69.0   \n",
      "9         5.0        12.0         6.0     ...            34.0        35.0   \n",
      "\n",
      "   2017-07-05  2017-07-06  2017-07-07  2017-07-08  2017-07-09  2017-07-10  \\\n",
      "0        14.0        15.0        19.0        29.0        22.0        25.0   \n",
      "1        19.0        16.0       816.0        20.0        76.0        24.0   \n",
      "2         1.0         1.0        10.0         1.0         2.0         6.0   \n",
      "3        17.0        15.0        22.0         6.0         6.0        18.0   \n",
      "4        18.0        12.0        14.0        11.0        16.0        15.0   \n",
      "5        20.0        22.0        12.0        76.0        19.0        23.0   \n",
      "6         7.0         3.0        24.0         9.0         4.0         9.0   \n",
      "7        30.0        15.0        16.0        36.0        15.0        17.0   \n",
      "8        30.0        25.0        33.0        40.0        74.0        61.0   \n",
      "9        18.0        21.0        23.0        20.0        21.0        20.0   \n",
      "\n",
      "   2017-07-11  2017-07-12  \n",
      "0        20.0        19.0  \n",
      "1        15.0        12.0  \n",
      "2         5.0         1.0  \n",
      "3        12.0        16.0  \n",
      "4         9.0        12.0  \n",
      "5        14.0         5.0  \n",
      "6         0.0        10.0  \n",
      "7        17.0        12.0  \n",
      "8        60.0        30.0  \n",
      "9        49.0        22.0  \n",
      "\n",
      "[10 rows x 748 columns]\n",
      "The test set sample:\n",
      "              topic lang      access   agent  \\\n",
      "0              2NE1   zh  all-access  spider   \n",
      "1               2PM   zh  all-access  spider   \n",
      "2                3C   zh  all-access  spider   \n",
      "3           4minute   zh  all-access  spider   \n",
      "4  52_Hz_I_Love_You   zh  all-access  spider   \n",
      "5              5566   zh  all-access  spider   \n",
      "6            91Days   zh  all-access  spider   \n",
      "7             A'N'D   zh  all-access  spider   \n",
      "8             AKB48   zh  all-access  spider   \n",
      "9             ASCII   zh  all-access  spider   \n",
      "\n",
      "                                                Page  2017-07-13  2017-07-14  \\\n",
      "0            2NE1_zh.wikipedia.org_all-access_spider        25.0        17.0   \n",
      "1             2PM_zh.wikipedia.org_all-access_spider        16.0        15.0   \n",
      "2              3C_zh.wikipedia.org_all-access_spider         7.0         2.0   \n",
      "3         4minute_zh.wikipedia.org_all-access_spider        20.0        10.0   \n",
      "4  52_Hz_I_Love_You_zh.wikipedia.org_all-access_s...        11.0        16.0   \n",
      "5            5566_zh.wikipedia.org_all-access_spider        63.0        17.0   \n",
      "6          91Days_zh.wikipedia.org_all-access_spider         2.0        10.0   \n",
      "7           A'N'D_zh.wikipedia.org_all-access_spider        21.0        24.0   \n",
      "8           AKB48_zh.wikipedia.org_all-access_spider        28.0        42.0   \n",
      "9           ASCII_zh.wikipedia.org_all-access_spider        30.0        30.0   \n",
      "\n",
      "   2017-07-15  2017-07-16  2017-07-17     ...      2017-09-01  2017-09-02  \\\n",
      "0        12.0        24.0        38.0     ...            19.0        33.0   \n",
      "1        34.0        16.0        16.0     ...            32.0        30.0   \n",
      "2         1.0         2.0         3.0     ...             6.0         6.0   \n",
      "3        14.0        11.0        19.0     ...             7.0        19.0   \n",
      "4        14.0        11.0         4.0     ...            16.0        16.0   \n",
      "5        12.0         9.0        14.0     ...            13.0        13.0   \n",
      "6        12.0         9.0         4.0     ...            12.0         8.0   \n",
      "7        11.0        18.0        26.0     ...            74.0        39.0   \n",
      "8        25.0        72.0        24.0     ...            53.0       107.0   \n",
      "9        28.0        35.0        26.0     ...            20.0        16.0   \n",
      "\n",
      "   2017-09-03  2017-09-04  2017-09-05  2017-09-06  2017-09-07  2017-09-08  \\\n",
      "0        33.0        18.0        16.0        27.0        29.0        23.0   \n",
      "1        11.0        19.0        54.0        25.0        26.0        23.0   \n",
      "2         7.0         2.0         4.0         7.0         3.0         4.0   \n",
      "3        19.0         9.0         6.0        16.0        19.0        30.0   \n",
      "4        19.0         9.0        20.0        23.0        28.0        14.0   \n",
      "5        45.0         4.0        13.0        20.0        18.0        17.0   \n",
      "6         5.0         7.0         8.0        10.0         8.0         5.0   \n",
      "7        11.0        55.0        71.0        44.0        25.0        39.0   \n",
      "8        63.0        42.0        24.0        44.0        33.0        52.0   \n",
      "9        22.0        19.0        21.0        32.0        34.0        29.0   \n",
      "\n",
      "   2017-09-09  2017-09-10  \n",
      "0        54.0        38.0  \n",
      "1        13.0        81.0  \n",
      "2         7.0         6.0  \n",
      "3        38.0         4.0  \n",
      "4         8.0         7.0  \n",
      "5        14.0        11.0  \n",
      "6         3.0         5.0  \n",
      "7        25.0        50.0  \n",
      "8        21.0        48.0  \n",
      "9        23.0        25.0  \n",
      "\n",
      "[10 rows x 65 columns]\n"
     ]
    }
   ],
   "source": [
    "# Generate train and validate dataset\n",
    "train_df = pd.concat([page_details, data], axis=1)\n",
    "\n",
    "def get_train_validate_set(train_df):\n",
    "    train_end = train_df.shape[1]-60\n",
    "    train_ds = train_df.iloc[:, np.r_[0,1,2,3,4,5:train_end]]\n",
    "    test_ds = train_df.iloc[:, np.r_[0,1,2,3,4,train_end:train_df.shape[1]]]\n",
    "    \n",
    "    return train_ds, test_ds\n",
    "\n",
    "X_train, y_train = get_train_validate_set(train_df)\n",
    "\n",
    "print(\"The training set sample:\")\n",
    "print(X_train[0:10])\n",
    "print(\"The test set sample:\")\n",
    "print(y_train[0:10])"
   ]
  },
  {
   "cell_type": "markdown",
   "metadata": {},
   "source": [
    "## Evaluation SMAPE"
   ]
  },
  {
   "cell_type": "code",
   "execution_count": 38,
   "metadata": {
    "collapsed": true
   },
   "outputs": [],
   "source": [
    "def smape(predict, actual, debug=False):\n",
    "    '''\n",
    "    predict and actual is a panda series.\n",
    "    In this implementation I will skip all the datapoint with actual is null\n",
    "    '''\n",
    "    \n",
    "    actual = actual.fillna(0)\n",
    "    data = pd.concat([predict, actual], axis=1, keys=['predict', 'actual'])\n",
    "    data = data[data.actual.notnull()]\n",
    "    if debug:\n",
    "        print('debug', data)\n",
    "    \n",
    "    evals = abs(data.predict - data.actual) * 1.0 / (abs(data.predict) + abs(data.actual)) * 2\n",
    "    evals[evals.isnull()] = 0\n",
    "    #print(np.sum(evals), len(data), np.sum(evals) * 1.0 / len(data))\n",
    "    \n",
    "    result = np.sum(evals) / len(data)\n",
    "    \n",
    "    return result\n",
    "\n",
    "# create testing series\n",
    "testing_series_1 = X_train.iloc[0, 5:494]\n",
    "testing_series_2 = X_train.iloc[0, 5:494].shift(-1)\n",
    "testing_series_3 = X_train.iloc[1, 5:494]\n",
    "testing_series_4 = pd.Series([0,0,0,0])"
   ]
  },
  {
   "cell_type": "markdown",
   "metadata": {},
   "source": [
    "## Median Model"
   ]
  },
  {
   "cell_type": "code",
   "execution_count": 39,
   "metadata": {
    "collapsed": true
   },
   "outputs": [],
   "source": [
    "def plot_prediction_and_actual_2(train, forecast, actual, xlim=None, ylim=None, figSize=None, title=None):\n",
    "    fig, ax  = plt.subplots(1,1,figsize=figSize)\n",
    "    ax.plot(pd.to_datetime(train.index), train.values, 'k.')\n",
    "    ax.plot(pd.to_datetime(actual.index), actual.values, 'r.')\n",
    "    ax.plot(pd.to_datetime(forecast.index), forecast.values, 'b-')\n",
    "    ax.set_title(title)\n",
    "    plt.show()"
   ]
  },
  {
   "cell_type": "code",
   "execution_count": 42,
   "metadata": {
    "collapsed": true
   },
   "outputs": [],
   "source": [
    "def median_model(df_train, df_actual, p, review=False, figSize=(12, 4)):\n",
    "    \n",
    "    def nanmedian_zero(a):\n",
    "        return np.nan_to_num(np.nanmedian(a))\n",
    "    \n",
    "    df_train['y'] = df_train['y'].convert_objects(convert_numeric=True)\n",
    "    df_actual['y'] = df_actual['y'].convert_objects(convert_numeric=True)\n",
    "    visits = nanmedian_zero(df_train['y'].values[-p:])\n",
    "    train_series = df_train['y']\n",
    "    train_series.index = df_train.ds\n",
    "    \n",
    "    idx = np.arange( p) + np.arange(len(df_train)- p+1)[:,None]\n",
    "    b = [row[row>=0] for row in df_train.y.values[idx]]\n",
    "    pre_forecast = pd.Series(np.append(([float('nan')] * (p-1)), list(map(nanmedian_zero,b))))\n",
    "    pre_forecast.index = df_train.ds\n",
    "    \n",
    "    forecast_series = pd.Series(np.repeat(visits, len(df_actual)))\n",
    "    forecast_series.index = df_actual.ds\n",
    "    \n",
    "    forecast_series = pre_forecast.append(forecast_series)\n",
    "    \n",
    "    actual_series = df_actual.y\n",
    "    actual_series.index = df_actual.ds\n",
    "    \n",
    "    if(review):\n",
    "        plot_prediction_and_actual_2(train_series, forecast_series, actual_series, figSize=figSize, title='Median model')\n",
    "    \n",
    "    return smape(forecast_series, actual_series, debug = True)"
   ]
  },
  {
   "cell_type": "code",
   "execution_count": 47,
   "metadata": {
    "collapsed": true
   },
   "outputs": [],
   "source": [
    "def extract_series(df, row_num, start_idx):\n",
    "    y = df.iloc[row_num, start_idx:]\n",
    "    df = pd.DataFrame({ 'ds': y.index, 'y': y.values})\n",
    "    return df"
   ]
  },
  {
   "cell_type": "code",
   "execution_count": 48,
   "metadata": {},
   "outputs": [
    {
     "name": "stdout",
     "output_type": "stream",
     "text": [
      "                                    Page  2015-07-01  2015-07-02  2015-07-03  \\\n",
      "2  3C_zh.wikipedia.org_all-access_spider         1.0         0.0         1.0   \n",
      "\n",
      "   2015-07-04  2015-07-05  2015-07-06  2015-07-07  2015-07-08  2015-07-09  \\\n",
      "2         1.0         0.0         4.0         0.0         3.0         4.0   \n",
      "\n",
      "      ...      2017-09-01  2017-09-02  2017-09-03  2017-09-04  2017-09-05  \\\n",
      "2     ...             6.0         6.0         7.0         2.0         4.0   \n",
      "\n",
      "   2017-09-06  2017-09-07  2017-09-08  2017-09-09  2017-09-10  \n",
      "2         7.0         3.0         4.0         7.0         6.0  \n",
      "\n",
      "[1 rows x 804 columns]\n",
      "2015-07-01     1\n",
      "2015-07-02     0\n",
      "2015-07-03     1\n",
      "2015-07-04     1\n",
      "2015-07-05     0\n",
      "2015-07-06     4\n",
      "2015-07-07     0\n",
      "2015-07-08     3\n",
      "2015-07-09     4\n",
      "2015-07-10     4\n",
      "2015-07-11     1\n",
      "2015-07-12     1\n",
      "2015-07-13     1\n",
      "2015-07-14     6\n",
      "2015-07-15     8\n",
      "2015-07-16     6\n",
      "2015-07-17     4\n",
      "2015-07-18     5\n",
      "2015-07-19     1\n",
      "2015-07-20     2\n",
      "2015-07-21     3\n",
      "2015-07-22     8\n",
      "2015-07-23     8\n",
      "2015-07-24     6\n",
      "2015-07-25     6\n",
      "2015-07-26     2\n",
      "2015-07-27     2\n",
      "2015-07-28     3\n",
      "2015-07-29     2\n",
      "2015-07-30     4\n",
      "              ..\n",
      "2017-06-13    11\n",
      "2017-06-14    19\n",
      "2017-06-15    11\n",
      "2017-06-16     5\n",
      "2017-06-17     3\n",
      "2017-06-18     6\n",
      "2017-06-19     3\n",
      "2017-06-20     3\n",
      "2017-06-21     8\n",
      "2017-06-22     7\n",
      "2017-06-23     3\n",
      "2017-06-24     5\n",
      "2017-06-25     4\n",
      "2017-06-26     4\n",
      "2017-06-27     5\n",
      "2017-06-28     5\n",
      "2017-06-29     0\n",
      "2017-06-30     6\n",
      "2017-07-01     1\n",
      "2017-07-02     1\n",
      "2017-07-03     7\n",
      "2017-07-04     1\n",
      "2017-07-05     1\n",
      "2017-07-06     1\n",
      "2017-07-07    10\n",
      "2017-07-08     1\n",
      "2017-07-09     2\n",
      "2017-07-10     6\n",
      "2017-07-11     5\n",
      "2017-07-12     1\n",
      "Name: 2, Length: 743, dtype: object\n",
      "2017-07-13     7\n",
      "2017-07-14     2\n",
      "2017-07-15     1\n",
      "2017-07-16     2\n",
      "2017-07-17     3\n",
      "2017-07-18     1\n",
      "2017-07-19     3\n",
      "2017-07-20     2\n",
      "2017-07-21     2\n",
      "2017-07-22     3\n",
      "2017-07-23     5\n",
      "2017-07-24     8\n",
      "2017-07-25     2\n",
      "2017-07-26     3\n",
      "2017-07-27     3\n",
      "2017-07-28     2\n",
      "2017-07-29     5\n",
      "2017-07-30     7\n",
      "2017-07-31     4\n",
      "2017-08-01     0\n",
      "2017-08-02    22\n",
      "2017-08-03     8\n",
      "2017-08-04     4\n",
      "2017-08-05     3\n",
      "2017-08-06     1\n",
      "2017-08-07     3\n",
      "2017-08-08     7\n",
      "2017-08-09     3\n",
      "2017-08-10     1\n",
      "2017-08-11     9\n",
      "2017-08-12     4\n",
      "2017-08-13     2\n",
      "2017-08-14     6\n",
      "2017-08-15     3\n",
      "2017-08-16     3\n",
      "2017-08-17     3\n",
      "2017-08-18     8\n",
      "2017-08-19     2\n",
      "2017-08-20     4\n",
      "2017-08-21     3\n",
      "2017-08-22     6\n",
      "2017-08-23    23\n",
      "2017-08-24    11\n",
      "2017-08-25     8\n",
      "2017-08-26     6\n",
      "2017-08-27    13\n",
      "2017-08-28    12\n",
      "2017-08-29     8\n",
      "2017-08-30    12\n",
      "2017-08-31     9\n",
      "2017-09-01     6\n",
      "2017-09-02     6\n",
      "2017-09-03     7\n",
      "2017-09-04     2\n",
      "2017-09-05     4\n",
      "2017-09-06     7\n",
      "2017-09-07     3\n",
      "2017-09-08     4\n",
      "2017-09-09     7\n",
      "2017-09-10     6\n",
      "Name: 2, dtype: object\n"
     ]
    },
    {
     "name": "stderr",
     "output_type": "stream",
     "text": [
      "/Users/fredxue/anaconda2/envs/py3/lib/python3.6/site-packages/ipykernel_launcher.py:6: FutureWarning: convert_objects is deprecated.  To re-infer data dtypes for object columns, use Series.infer_objects()\n",
      "For all other conversions use the data-type specific converters pd.to_datetime, pd.to_timedelta and pd.to_numeric.\n",
      "  \n",
      "/Users/fredxue/anaconda2/envs/py3/lib/python3.6/site-packages/ipykernel_launcher.py:7: FutureWarning: convert_objects is deprecated.  To re-infer data dtypes for object columns, use Series.infer_objects()\n",
      "For all other conversions use the data-type specific converters pd.to_datetime, pd.to_timedelta and pd.to_numeric.\n",
      "  import sys\n"
     ]
    },
    {
     "data": {
      "image/png": "[encoded data removed]",
      "text/plain": [
       "<Figure size 864x288 with 1 Axes>"
      ]
     },
     "metadata": {},
     "output_type": "display_data"
    },
    {
     "name": "stdout",
     "output_type": "stream",
     "text": [
      "debug             predict  actual\n",
      "2017-07-13      1.0     7.0\n",
      "2017-07-14      1.0     2.0\n",
      "2017-07-15      1.0     1.0\n",
      "2017-07-16      1.0     2.0\n",
      "2017-07-17      1.0     3.0\n",
      "2017-07-18      1.0     1.0\n",
      "2017-07-19      1.0     3.0\n",
      "2017-07-20      1.0     2.0\n",
      "2017-07-21      1.0     2.0\n",
      "2017-07-22      1.0     3.0\n",
      "2017-07-23      1.0     5.0\n",
      "2017-07-24      1.0     8.0\n",
      "2017-07-25      1.0     2.0\n",
      "2017-07-26      1.0     3.0\n",
      "2017-07-27      1.0     3.0\n",
      "2017-07-28      1.0     2.0\n",
      "2017-07-29      1.0     5.0\n",
      "2017-07-30      1.0     7.0\n",
      "2017-07-31      1.0     4.0\n",
      "2017-08-01      1.0     0.0\n",
      "2017-08-02      1.0    22.0\n",
      "2017-08-03      1.0     8.0\n",
      "2017-08-04      1.0     4.0\n",
      "2017-08-05      1.0     3.0\n",
      "2017-08-06      1.0     1.0\n",
      "2017-08-07      1.0     3.0\n",
      "2017-08-08      1.0     7.0\n",
      "2017-08-09      1.0     3.0\n",
      "2017-08-10      1.0     1.0\n",
      "2017-08-11      1.0     9.0\n",
      "2017-08-12      1.0     4.0\n",
      "2017-08-13      1.0     2.0\n",
      "2017-08-14      1.0     6.0\n",
      "2017-08-15      1.0     3.0\n",
      "2017-08-16      1.0     3.0\n",
      "2017-08-17      1.0     3.0\n",
      "2017-08-18      1.0     8.0\n",
      "2017-08-19      1.0     2.0\n",
      "2017-08-20      1.0     4.0\n",
      "2017-08-21      1.0     3.0\n",
      "2017-08-22      1.0     6.0\n",
      "2017-08-23      1.0    23.0\n",
      "2017-08-24      1.0    11.0\n",
      "2017-08-25      1.0     8.0\n",
      "2017-08-26      1.0     6.0\n",
      "2017-08-27      1.0    13.0\n",
      "2017-08-28      1.0    12.0\n",
      "2017-08-29      1.0     8.0\n",
      "2017-08-30      1.0    12.0\n",
      "2017-08-31      1.0     9.0\n",
      "2017-09-01      1.0     6.0\n",
      "2017-09-02      1.0     6.0\n",
      "2017-09-03      1.0     7.0\n",
      "2017-09-04      1.0     2.0\n",
      "2017-09-05      1.0     4.0\n",
      "2017-09-06      1.0     7.0\n",
      "2017-09-07      1.0     3.0\n",
      "2017-09-08      1.0     4.0\n",
      "2017-09-09      1.0     7.0\n",
      "2017-09-10      1.0     6.0\n",
      "The SMAPE score is : 1.16401\n"
     ]
    }
   ],
   "source": [
    "# This is to demo the median model\n",
    "print(data.iloc[[2]])\n",
    "\n",
    "df_train = extract_series(X_train, 2, 5)\n",
    "df_actual = extract_series(y_train, 2, 5)\n",
    "\n",
    "score = median_model(df_train.copy(), df_actual.copy(), 15, review=True)\n",
    "print(\"The SMAPE score is : %.5f\" % score)"
   ]
  },
  {
   "cell_type": "markdown",
   "metadata": {
    "collapsed": true
   },
   "source": [
    "## FB Prophet"
   ]
  },
  {
   "cell_type": "code",
   "execution_count": 21,
   "metadata": {
    "collapsed": true
   },
   "outputs": [],
   "source": [
    "from fbprophet import Prophet"
   ]
  },
  {
   "cell_type": "code",
   "execution_count": 22,
   "metadata": {
    "collapsed": true
   },
   "outputs": [],
   "source": [
    "def plot_prediction_and_actual(model, forecast, actual, xlim=None, ylim=None, figSize=None, title=None):\n",
    "    fig, ax  = plt.subplots(1,1,figsize=figSize)\n",
    "    ax.set_ylim(ylim)\n",
    "    ax.plot(pd.to_datetime(actual.ds), actual.y, 'r.')\n",
    "    model.plot(forecast, ax=ax);\n",
    "    ax.set_title(title)\n",
    "    plt.show()"
   ]
  },
  {
   "cell_type": "code",
   "execution_count": 23,
   "metadata": {
    "collapsed": true
   },
   "outputs": [],
   "source": [
    "# simple linear model\n",
    "def normal_model(df_train, df_actual, review=False):\n",
    "    start_date = df_actual.ds.min()\n",
    "    end_date = df_actual.ds.max()\n",
    "    \n",
    "    actual_series = df_actual.y.copy()\n",
    "    actual_series.index = df_actual.ds\n",
    "\n",
    "    df_train['y'] = df_train['y'].astype('float')\n",
    "    \n",
    "    df_actual['y'] = df_actual['y'].astype('float')\n",
    "    \n",
    "    m = Prophet()\n",
    "    m.fit(df_train)\n",
    "    future = m.make_future_dataframe(periods=60)\n",
    "    forecast = m.predict(future)\n",
    "        \n",
    "    if(review):\n",
    "        ymin = min(df_actual.y.min(), df_train.y.min()) -100\n",
    "        ymax = max(df_actual.y.max(), df_train.y.max()) +100\n",
    "        #\n",
    "        plot_prediction_and_actual(m, forecast, df_actual, ylim=[ymin, ymax], figSize=(12,4), title='Normal model')\n",
    "    \n",
    "    mask = (forecast['ds'] >= start_date) & (forecast['ds'] <= end_date)\n",
    "    forecast_series = forecast[mask].yhat\n",
    "    forecast_series.index = forecast[mask].ds\n",
    "    forecast_series[forecast_series < 0] = 0\n",
    "\n",
    "    return smape(forecast_series, actual_series)"
   ]
  },
  {
   "cell_type": "code",
   "execution_count": 24,
   "metadata": {
    "collapsed": true
   },
   "outputs": [],
   "source": [
    "# log model\n",
    "def normal_model_log(df_train, df_actual, review=False):\n",
    "    start_date = df_actual.ds.min()\n",
    "    end_date = df_actual.ds.max()\n",
    "    \n",
    "    actual_series = df_actual.y.copy()\n",
    "    actual_series.index = df_actual.ds\n",
    "\n",
    "    df_train['y'] = df_train['y'].astype('float')\n",
    "    df_train.y = np.log1p(df_train.y)\n",
    "    \n",
    "    df_actual['y'] = df_actual['y'].astype('float')\n",
    "    df_actual.y = np.log1p(df_actual.y)\n",
    "    \n",
    "    m = Prophet()\n",
    "    m.fit(df_train)\n",
    "    future = m.make_future_dataframe(periods=60)\n",
    "    forecast = m.predict(future)\n",
    "    \n",
    "    if(review):\n",
    "        ymin = min(df_actual.y.min(), df_train.y.min()) -2\n",
    "        ymax = max(df_actual.y.max(), df_train.y.max()) +2\n",
    "        plot_prediction_and_actual(m, forecast, df_actual, ylim=[ymin, ymax], figSize=(12,4), title='Normal model in log')\n",
    "        \n",
    "    mask = (forecast['ds'] >= start_date) & (forecast['ds'] <= end_date)\n",
    "    forecast_series = np.expm1(forecast[mask].yhat)\n",
    "    forecast_series.index = forecast[mask].ds\n",
    "    forecast_series[forecast_series < 0] = 0\n",
    "\n",
    "    return smape(forecast_series, actual_series)"
   ]
  },
  {
   "cell_type": "code",
   "execution_count": 27,
   "metadata": {},
   "outputs": [
    {
     "name": "stderr",
     "output_type": "stream",
     "text": [
      "INFO:fbprophet.forecaster:Disabling daily seasonality. Run prophet with daily_seasonality=True to override this.\n"
     ]
    },
    {
     "name": "stdout",
     "output_type": "stream",
     "text": [
      "                                    Page  2015-07-01  2015-07-02  2015-07-03  \\\n",
      "2  3C_zh.wikipedia.org_all-access_spider         1.0         0.0         1.0   \n",
      "\n",
      "   2015-07-04  2015-07-05  2015-07-06  2015-07-07  2015-07-08  2015-07-09  \\\n",
      "2         1.0         0.0         4.0         0.0         3.0         4.0   \n",
      "\n",
      "      ...      2017-09-01  2017-09-02  2017-09-03  2017-09-04  2017-09-05  \\\n",
      "2     ...             6.0         6.0         7.0         2.0         4.0   \n",
      "\n",
      "   2017-09-06  2017-09-07  2017-09-08  2017-09-09  2017-09-10  \n",
      "2         7.0         3.0         4.0         7.0         6.0  \n",
      "\n",
      "[1 rows x 804 columns]\n"
     ]
    },
    {
     "name": "stderr",
     "output_type": "stream",
     "text": [
      "/Users/fredxue/anaconda2/envs/py3/lib/python3.6/site-packages/pystan/misc.py:399: FutureWarning: Conversion of the second argument of issubdtype from `float` to `np.floating` is deprecated. In future, it will be treated as `np.float64 == np.dtype(float).type`.\n",
      "  elif np.issubdtype(np.asarray(v).dtype, float):\n"
     ]
    },
    {
     "data": {
      "image/png": "[encoded data removed]",
      "text/plain": [
       "<Figure size 864x288 with 1 Axes>"
      ]
     },
     "metadata": {},
     "output_type": "display_data"
    },
    {
     "name": "stdout",
     "output_type": "stream",
     "text": [
      "The SMAPE score is : 0.64472\n"
     ]
    }
   ],
   "source": [
    "print(data.iloc[[2]])\n",
    "\n",
    "df_train = extract_series(X_train, 2, 5)\n",
    "df_actual = extract_series(y_train, 2, 5)\n",
    "lang = X_train.iloc[2, 1]\n",
    "score = normal_model_log(df_train.copy(), df_actual.copy(), review=True)\n",
    "print(\"The SMAPE score is : %.5f\" % score)"
   ]
  },
  {
   "cell_type": "code",
   "execution_count": null,
   "metadata": {
    "collapsed": true
   },
   "outputs": [],
   "source": []
  }
 ],
 "metadata": {
  "kernelspec": {
   "display_name": "Python 3",
   "language": "python",
   "name": "py3"
  },
  "language_info": {
   "codemirror_mode": {
    "name": "ipython",
    "version": 3
   },
   "file_extension": ".py",
   "mimetype": "text/x-python",
   "name": "python",
   "nbconvert_exporter": "python",
   "pygments_lexer": "ipython3",
   "version": "3.6.4"
  }
 },
 "nbformat": 4,
 "nbformat_minor": 2
}
