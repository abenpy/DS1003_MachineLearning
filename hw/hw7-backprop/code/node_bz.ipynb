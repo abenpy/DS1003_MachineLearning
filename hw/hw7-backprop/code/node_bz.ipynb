{
 "cells": [
  {
   "cell_type": "code",
   "execution_count": null,
   "metadata": {
    "collapsed": true
   },
   "outputs": [],
   "source": [
    "\"\"\"Computation graph node types\n",
    "\n",
    "Nodes must implement the following methods:\n",
    "__init__   - initialize node\n",
    "forward    - (step 1 of backprop) retrieve output (\"out\") of predecessor nodes (if\n",
    "             applicable), update own output (\"out\"), and set gradient (\"d_out\") to zero\n",
    "backward   - (step 2 of backprop), assumes that forward pass has run before.\n",
    "             Also assumes that backward has been called on all of the node's\n",
    "             successor nodes, so that self.d_out contains the\n",
    "             gradient of the graph output with respect to the node output.\n",
    "             Backward computes summands of the derivative of graph output with\n",
    "             respect to the inputs of the node, corresponding to paths through the graph\n",
    "             that go from the node's input through the node to the graph's output.\n",
    "             These summands are added to the input node's d_out array.\n",
    "get_predecessors - return a list of the node's parents\n",
    "\n",
    "Nodes must furthermore have a the following attributes:\n",
    "node_name  - node's name (a string)\n",
    "out      - node's output\n",
    "d_out    - derivative of graph output w.r.t. node output\n",
    "\n",
    "This computation graph framework was designed and implemented by\n",
    "Philipp Meerkamp, Pierre Garapon, and David Rosenberg.\n",
    "License: Creative Commons Attribution 4.0 International License\n",
    "\"\"\"\n",
    "\n",
    "import numpy as np\n",
    "\n",
    "class ValueNode(object):\n",
    "    \"\"\"Computation graph node having no input but simply holding a value\"\"\"\n",
    "    def __init__(self, node_name):\n",
    "        self.node_name = node_name\n",
    "        self.out = None\n",
    "        self.d_out = None\n",
    "\n",
    "    def forward(self):\n",
    "        self.d_out = np.zeros(self.out.shape)\n",
    "        return self.out\n",
    "\n",
    "    def backward(self):\n",
    "        pass\n",
    "\n",
    "    def get_predecessors(self):\n",
    "        return []\n",
    "\n",
    "class VectorScalarAffineNode(object):\n",
    "    \"\"\" Node computing an affine function mapping a vector to a scalar.\"\"\"\n",
    "    def __init__(self, x, w, b, node_name):\n",
    "        \"\"\" \n",
    "        Parameters:\n",
    "        x: node for which x.out is a 1D numpy array\n",
    "        w: node for which w.out is a 1D numpy array of same size as x.out\n",
    "        b: node for which b.out is a numpy scalar (i.e. 0dim array)\n",
    "        node_name: node's name (a string)\n",
    "        \"\"\"\n",
    "        self.node_name = node_name\n",
    "        self.out = None\n",
    "        self.d_out = None\n",
    "        self.x = x\n",
    "        self.w = w\n",
    "        self.b = b\n",
    "\n",
    "    def forward(self):\n",
    "        self.out = np.dot(self.x.out, self.w.out) + self.b.out\n",
    "        self.d_out = np.zeros(self.out.shape)\n",
    "        return self.out\n",
    "\n",
    "    def backward(self):\n",
    "        d_x = self.d_out * self.w.out\n",
    "        d_w = self.d_out * self.x.out\n",
    "        d_b = self.d_out\n",
    "        self.x.d_out += d_x\n",
    "        self.w.d_out += d_w\n",
    "        self.b.d_out += d_b\n",
    "\n",
    "    def get_predecessors(self):\n",
    "        return [self.x, self.w, self.b]\n",
    "\n",
    "class SquaredL2DistanceNode(object):\n",
    "    \"\"\" Node computing L2 distance (sum of square differences) between 2 arrays.\"\"\"\n",
    "    def __init__(self, a, b, node_name):\n",
    "        \"\"\" \n",
    "        Parameters:\n",
    "        a: node for which a.out is a numpy array\n",
    "        b: node for which b.out is a numpy array of same shape as a.out\n",
    "        node_name: node's name (a string)\n",
    "        \"\"\"\n",
    "        self.node_name = node_name\n",
    "        self.out = None\n",
    "        self.d_out = None\n",
    "        self.a = a\n",
    "        self.b = b\n",
    "        # Variable for caching values between forward and backward\n",
    "        self.a_minus_b = None\n",
    "\n",
    "    def forward(self):\n",
    "        self.a_minus_b = self.a.out - self.b.out\n",
    "        self.out = np.sum(self.a_minus_b ** 2)\n",
    "        self.d_out = np.zeros(self.out.shape)\n",
    "        return self.out\n",
    "\n",
    "    def backward(self):\n",
    "        d_a = self.d_out * 2 * self.a_minus_b\n",
    "        d_b = -self.d_out * 2 * self.a_minus_b\n",
    "        self.a.d_out += d_a\n",
    "        self.b.d_out += d_b\n",
    "        return self.d_out\n",
    "\n",
    "    def get_predecessors(self):\n",
    "        return [self.a, self.b]\n",
    "\n"
   ]
  },
  {
   "cell_type": "code",
   "execution_count": null,
   "metadata": {
    "collapsed": true
   },
   "outputs": [],
   "source": [
    "class L2NormPenaltyNode(object):\n",
    "    \"\"\" Node computing l2_reg * ||w||^2 for scalars l2_reg and vector w\"\"\"\n",
    "    def __init__(self, l2_reg, w, node_name):\n",
    "        \"\"\" \n",
    "        Parameters:\n",
    "        l2_reg: a scalar value >=0 (not a node)\n",
    "        w: a node for which w.out is a numpy vector\n",
    "        node_name: node's name (a string)\n",
    "        \"\"\"\n",
    "        self.node_name = node_name\n",
    "        self.out = None\n",
    "        self.d_out = None\n",
    "        self.l2_reg = np.array(l2_reg)\n",
    "        self.w = w\n",
    "        self.l2_reg = l2_reg\n",
    "        \n",
    "    def forward(self):\n",
    "        self.out = np.sum(self.w.out ** 2)\n",
    "        self.d_out = np.zeros(self.out.shape)\n",
    "        return self.out\n",
    "\n",
    "    def backward(self):\n",
    "        d_w = self.d_out * 2 * self.w.out\n",
    "        self.w.d_out += d_w\n",
    "        return self.d_out\n",
    "\n",
    "    def get_predecessors(self):\n",
    "        return [self.w, self.l2_reg]\n",
    "        \n",
    "        ## TODO\n",
    "\n",
    "class SumNode(object):\n",
    "    \"\"\" Node computing a + b, for numpy arrays a and b\"\"\"\n",
    "    def __init__(self, a, b, node_name):\n",
    "        \"\"\" \n",
    "        Parameters:\n",
    "        a: node for which a.out is a numpy array\n",
    "        b: node for which b.out is a numpy array of the same shape as a\n",
    "        node_name: node's name (a string)\n",
    "        \"\"\"\n",
    "        self.node_name = node_name\n",
    "        self.out = None\n",
    "        self.d_out = None\n",
    "        self.a = a\n",
    "        self.b = b\n",
    "        \n",
    "    def forward(self):\n",
    "        self.out = self.a.out + self.b.out\n",
    "        self.d_out = np.zeros(self.out.shape)\n",
    "        return self.out\n",
    "\n",
    "    def backward(self):\n",
    "        d_a = self.d_out \n",
    "        d_b = self.d_out \n",
    "        self.a.d_out += d_a\n",
    "        self.b.d_out += d_b\n",
    "        return self.d_out\n",
    "\n",
    "    def get_predecessors(self):\n",
    "        return [self.a, self.b]\n",
    "        \n",
    "\n",
    "class AffineNode(object):\n",
    "    \"\"\"Node implementing affine transformation (W,x,b)-->Wx+b, where W is a matrix,\n",
    "    and x and b are vectors\n",
    "        Parameters:\n",
    "        W: node for which W.out is a numpy array of shape (m,d)\n",
    "        x: node for which x.out is a numpy array of shape (d)\n",
    "        b: node for which b.out is a numpy array of shape (m) (i.e. vector of length m)\n",
    "    \"\"\"\n",
    "    ## TODO\n",
    "\n",
    "class TanhNode(object):\n",
    "    \"\"\"Node tanh(a), where tanh is applied elementwise to the array a\n",
    "        Parameters:\n",
    "        a: node for which a.out is a numpy array\n",
    "    \"\"\"\n",
    "    ## TODO\n",
    "\n"
   ]
  },
  {
   "cell_type": "code",
   "execution_count": 1,
   "metadata": {
    "collapsed": true
   },
   "outputs": [],
   "source": [
    "import numpy as np"
   ]
  },
  {
   "cell_type": "code",
   "execution_count": 7,
   "metadata": {},
   "outputs": [
    {
     "data": {
      "text/plain": [
       "34"
      ]
     },
     "execution_count": 7,
     "metadata": {},
     "output_type": "execute_result"
    }
   ],
   "source": [
    "testa=np.array([1,2,3])\n",
    "testb=np.array([4,5,7])\n",
    "a_minus_b = testb-testa\n",
    "np.dot(a_minus_b,a_minus_b) \n",
    "\n",
    "# out = sum(a_minus_b ** 2)"
   ]
  },
  {
   "cell_type": "code",
   "execution_count": null,
   "metadata": {
    "collapsed": true
   },
   "outputs": [],
   "source": []
  },
  {
   "cell_type": "code",
   "execution_count": null,
   "metadata": {
    "collapsed": true
   },
   "outputs": [],
   "source": []
  },
  {
   "cell_type": "code",
   "execution_count": null,
   "metadata": {
    "collapsed": true
   },
   "outputs": [],
   "source": []
  },
  {
   "cell_type": "code",
   "execution_count": null,
   "metadata": {
    "collapsed": true
   },
   "outputs": [],
   "source": []
  },
  {
   "cell_type": "code",
   "execution_count": null,
   "metadata": {
    "collapsed": true
   },
   "outputs": [],
   "source": []
  },
  {
   "cell_type": "code",
   "execution_count": null,
   "metadata": {
    "collapsed": true
   },
   "outputs": [],
   "source": []
  }
 ],
 "metadata": {
  "kernelspec": {
   "display_name": "Python 3",
   "language": "python",
   "name": "python3"
  },
  "language_info": {
   "codemirror_mode": {
    "name": "ipython",
    "version": 3
   },
   "file_extension": ".py",
   "mimetype": "text/x-python",
   "name": "python",
   "nbconvert_exporter": "python",
   "pygments_lexer": "ipython3",
   "version": "3.6.4"
  }
 },
 "nbformat": 4,
 "nbformat_minor": 2
}
