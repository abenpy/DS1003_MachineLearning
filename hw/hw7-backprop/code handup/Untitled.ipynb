{
 "cells": [
  {
   "cell_type": "code",
   "execution_count": 1,
   "metadata": {},
   "outputs": [
    {
     "name": "stderr",
     "output_type": "stream",
     "text": [
      "E\n",
      "======================================================================\n",
      "ERROR: /Users/zhangben/Library/Jupyter/runtime/kernel-8404e6ad-1805-4576-a2ef-8a9923eae751 (unittest.loader._FailedTest)\n",
      "----------------------------------------------------------------------\n",
      "AttributeError: module '__main__' has no attribute '/Users/zhangben/Library/Jupyter/runtime/kernel-8404e6ad-1805-4576-a2ef-8a9923eae751'\n",
      "\n",
      "----------------------------------------------------------------------\n",
      "Ran 1 test in 0.002s\n",
      "\n",
      "FAILED (errors=1)\n"
     ]
    },
    {
     "ename": "SystemExit",
     "evalue": "True",
     "output_type": "error",
     "traceback": [
      "An exception has occurred, use %tb to see the full traceback.\n",
      "\u001b[0;31mSystemExit\u001b[0m\u001b[0;31m:\u001b[0m True\n"
     ]
    },
    {
     "name": "stderr",
     "output_type": "stream",
     "text": [
      "/Users/zhangben/anaconda/lib/python3.6/site-packages/IPython/core/interactiveshell.py:2971: UserWarning: To exit: use 'exit', 'quit', or Ctrl-D.\n",
      "  warn(\"To exit: use 'exit', 'quit', or Ctrl-D.\", stacklevel=1)\n"
     ]
    }
   ],
   "source": [
    "import unittest\n",
    "import logging\n",
    "import linear_regression as linear\n",
    "import numpy as np\n",
    "import test_utils\n",
    "import graph\n",
    "import nodes\n",
    "\n",
    "logging.basicConfig(format='%(levelname)s: %(message)s',level=logging.DEBUG)\n",
    "\n",
    "class TestNodes(unittest.TestCase):\n",
    "\n",
    "    def test_backward_SquaredL2DistanceNode(self):\n",
    "        max_allowed_rel_err = 1e-5\n",
    "        a = nodes.ValueNode(\"a\")\n",
    "        b = nodes.ValueNode(\"b\")\n",
    "        node = nodes.SquaredL2DistanceNode(a,b,\"L2 dist node\")\n",
    "        dims = ()\n",
    "        init_vals = {\"a\":np.array(np.random.standard_normal(dims)),\n",
    "                     \"b\":np.array(np.random.standard_normal(dims))}\n",
    "        max_rel_err = test_utils.test_node_backward(node,\n",
    "                                                    init_vals,\n",
    "                                                    delta=1e-7)\n",
    "        self.assertTrue(max_rel_err < max_allowed_rel_err)\n",
    "\n",
    "        # Not used for linear regression, but can also apply the\n",
    "        # node to higher dimensional arrays\n",
    "        dims = (10)\n",
    "        init_vals = {\"a\":np.array(np.random.standard_normal(dims)),\n",
    "                     \"b\":np.array(np.random.standard_normal(dims))}\n",
    "        max_rel_err = test_utils.test_node_backward(node,\n",
    "                                                    init_vals,\n",
    "                                                    delta=1e-7)\n",
    "        self.assertTrue(max_rel_err < max_allowed_rel_err)\n",
    "\n",
    "        dims = (10,10)\n",
    "        init_vals = {\"a\":np.array(np.random.standard_normal(dims)),\n",
    "                     \"b\":np.array(np.random.standard_normal(dims))}\n",
    "        max_rel_err = test_utils.test_node_backward(node,\n",
    "                                                    init_vals,\n",
    "                                                    delta=1e-7)\n",
    "        self.assertTrue(max_rel_err < max_allowed_rel_err)\n",
    "\n",
    "\n",
    "    def test_backward_VectorScalarAffineNode(self):\n",
    "        max_allowed_rel_err = 1e-5\n",
    "        w = nodes.ValueNode(\"w\")\n",
    "        x = nodes.ValueNode(\"x\")\n",
    "        b = nodes.ValueNode(\"b\")\n",
    "        affine_node = nodes.VectorScalarAffineNode(x,w,b,\"affine node\")\n",
    "        num_ftrs = 5\n",
    "        init_vals = {\"w\":np.random.randn(num_ftrs),\n",
    "                     \"x\":np.random.randn(num_ftrs),\n",
    "                     \"b\":np.array(np.random.randn())}\n",
    "        max_rel_err = test_utils.test_node_backward(affine_node,\n",
    "                                                    init_vals,\n",
    "                                                    delta=1e-7)\n",
    "        self.assertTrue(max_rel_err < max_allowed_rel_err)\n",
    "\n",
    "    def test_linear_regression_gradient(self):\n",
    "        estimator = linear.LinearRegression()\n",
    "        d = 5\n",
    "        input_vals = {\"x\": np.random.randn(d)}\n",
    "        outcome_vals = {\"y\": np.array(np.random.randn())}\n",
    "        parameter_vals = {\"w\": np.random.randn(d), \"b\":np.array(np.random.randn())}\n",
    "\n",
    "        test_utils.test_ComputationGraphFunction(estimator.graph, input_vals, outcome_vals, parameter_vals)\n",
    "        self.assertTrue(1 == 1)\n",
    "\n",
    "\n",
    "\n",
    "if __name__ == \"__main__\":\n",
    "    unittest.main()\n"
   ]
  },
  {
   "cell_type": "code",
   "execution_count": 2,
   "metadata": {},
   "outputs": [
    {
     "ename": "SystemExit",
     "evalue": "True",
     "output_type": "error",
     "traceback": [
      "\u001b[0;31m---------------------------------------------------------------------------\u001b[0m",
      "\u001b[0;31mSystemExit\u001b[0m                                Traceback (most recent call last)",
      "\u001b[0;32m<ipython-input-1-3078b3a17389>\u001b[0m in \u001b[0;36m<module>\u001b[0;34m()\u001b[0m\n\u001b[1;32m     71\u001b[0m \u001b[0;34m\u001b[0m\u001b[0m\n\u001b[1;32m     72\u001b[0m \u001b[0;32mif\u001b[0m \u001b[0m__name__\u001b[0m \u001b[0;34m==\u001b[0m \u001b[0;34m\"__main__\"\u001b[0m\u001b[0;34m:\u001b[0m\u001b[0;34m\u001b[0m\u001b[0m\n\u001b[0;32m---> 73\u001b[0;31m     \u001b[0munittest\u001b[0m\u001b[0;34m.\u001b[0m\u001b[0mmain\u001b[0m\u001b[0;34m(\u001b[0m\u001b[0;34m)\u001b[0m\u001b[0;34m\u001b[0m\u001b[0m\n\u001b[0m",
      "\u001b[0;32m~/anaconda/lib/python3.6/unittest/main.py\u001b[0m in \u001b[0;36m__init__\u001b[0;34m(self, module, defaultTest, argv, testRunner, testLoader, exit, verbosity, failfast, catchbreak, buffer, warnings, tb_locals)\u001b[0m\n\u001b[1;32m     93\u001b[0m         \u001b[0mself\u001b[0m\u001b[0;34m.\u001b[0m\u001b[0mprogName\u001b[0m \u001b[0;34m=\u001b[0m \u001b[0mos\u001b[0m\u001b[0;34m.\u001b[0m\u001b[0mpath\u001b[0m\u001b[0;34m.\u001b[0m\u001b[0mbasename\u001b[0m\u001b[0;34m(\u001b[0m\u001b[0margv\u001b[0m\u001b[0;34m[\u001b[0m\u001b[0;36m0\u001b[0m\u001b[0;34m]\u001b[0m\u001b[0;34m)\u001b[0m\u001b[0;34m\u001b[0m\u001b[0m\n\u001b[1;32m     94\u001b[0m         \u001b[0mself\u001b[0m\u001b[0;34m.\u001b[0m\u001b[0mparseArgs\u001b[0m\u001b[0;34m(\u001b[0m\u001b[0margv\u001b[0m\u001b[0;34m)\u001b[0m\u001b[0;34m\u001b[0m\u001b[0m\n\u001b[0;32m---> 95\u001b[0;31m         \u001b[0mself\u001b[0m\u001b[0;34m.\u001b[0m\u001b[0mrunTests\u001b[0m\u001b[0;34m(\u001b[0m\u001b[0;34m)\u001b[0m\u001b[0;34m\u001b[0m\u001b[0m\n\u001b[0m\u001b[1;32m     96\u001b[0m \u001b[0;34m\u001b[0m\u001b[0m\n\u001b[1;32m     97\u001b[0m     \u001b[0;32mdef\u001b[0m \u001b[0musageExit\u001b[0m\u001b[0;34m(\u001b[0m\u001b[0mself\u001b[0m\u001b[0;34m,\u001b[0m \u001b[0mmsg\u001b[0m\u001b[0;34m=\u001b[0m\u001b[0;32mNone\u001b[0m\u001b[0;34m)\u001b[0m\u001b[0;34m:\u001b[0m\u001b[0;34m\u001b[0m\u001b[0m\n",
      "\u001b[0;32m~/anaconda/lib/python3.6/unittest/main.py\u001b[0m in \u001b[0;36mrunTests\u001b[0;34m(self)\u001b[0m\n\u001b[1;32m    256\u001b[0m         \u001b[0mself\u001b[0m\u001b[0;34m.\u001b[0m\u001b[0mresult\u001b[0m \u001b[0;34m=\u001b[0m \u001b[0mtestRunner\u001b[0m\u001b[0;34m.\u001b[0m\u001b[0mrun\u001b[0m\u001b[0;34m(\u001b[0m\u001b[0mself\u001b[0m\u001b[0;34m.\u001b[0m\u001b[0mtest\u001b[0m\u001b[0;34m)\u001b[0m\u001b[0;34m\u001b[0m\u001b[0m\n\u001b[1;32m    257\u001b[0m         \u001b[0;32mif\u001b[0m \u001b[0mself\u001b[0m\u001b[0;34m.\u001b[0m\u001b[0mexit\u001b[0m\u001b[0;34m:\u001b[0m\u001b[0;34m\u001b[0m\u001b[0m\n\u001b[0;32m--> 258\u001b[0;31m             \u001b[0msys\u001b[0m\u001b[0;34m.\u001b[0m\u001b[0mexit\u001b[0m\u001b[0;34m(\u001b[0m\u001b[0;32mnot\u001b[0m \u001b[0mself\u001b[0m\u001b[0;34m.\u001b[0m\u001b[0mresult\u001b[0m\u001b[0;34m.\u001b[0m\u001b[0mwasSuccessful\u001b[0m\u001b[0;34m(\u001b[0m\u001b[0;34m)\u001b[0m\u001b[0;34m)\u001b[0m\u001b[0;34m\u001b[0m\u001b[0m\n\u001b[0m\u001b[1;32m    259\u001b[0m \u001b[0;34m\u001b[0m\u001b[0m\n\u001b[1;32m    260\u001b[0m \u001b[0mmain\u001b[0m \u001b[0;34m=\u001b[0m \u001b[0mTestProgram\u001b[0m\u001b[0;34m\u001b[0m\u001b[0m\n",
      "\u001b[0;31mSystemExit\u001b[0m: True"
     ]
    }
   ],
   "source": [
    "%tb\n"
   ]
  }
 ],
 "metadata": {
  "kernelspec": {
   "display_name": "Python 3",
   "language": "python",
   "name": "python3"
  },
  "language_info": {
   "codemirror_mode": {
    "name": "ipython",
    "version": 3
   },
   "file_extension": ".py",
   "mimetype": "text/x-python",
   "name": "python",
   "nbconvert_exporter": "python",
   "pygments_lexer": "ipython3",
   "version": "3.6.4"
  }
 },
 "nbformat": 4,
 "nbformat_minor": 2
}
